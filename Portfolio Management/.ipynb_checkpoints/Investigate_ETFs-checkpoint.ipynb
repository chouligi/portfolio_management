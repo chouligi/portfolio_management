{
 "cells": [
  {
   "cell_type": "markdown",
   "metadata": {},
   "source": [
    "# Imports"
   ]
  },
  {
   "cell_type": "code",
   "execution_count": 25,
   "metadata": {},
   "outputs": [],
   "source": [
    "import pandas as pd\n",
    "import matplotlib.pyplot as plt \n",
    "import matplotlib\n",
    "import seaborn as sns\n",
    "import numpy as np\n",
    "np.random.seed(777)\n",
    "import scipy.optimize as sco\n"
   ]
  },
  {
   "cell_type": "code",
   "execution_count": null,
   "metadata": {},
   "outputs": [],
   "source": [
    "#Set figure sizes\n",
    "plt.rcParams[\"figure.figsize\"] = (15.0,8.0)\n",
    "\n",
    "\n",
    "#set font sizes\n",
    "SMALL_SIZE = 20\n",
    "MEDIUM_SIZE = 23\n",
    "BIGGER_SIZE = 25\n",
    "\n",
    "plt.rc('font', size=SMALL_SIZE)          # controls default text sizes\n",
    "plt.rc('axes', titlesize=SMALL_SIZE)     # fontsize of the axes title\n",
    "plt.rc('axes', labelsize=MEDIUM_SIZE)    # fontsize of the x and y labels\n",
    "plt.rc('xtick', labelsize=SMALL_SIZE)    # fontsize of the tick labels\n",
    "plt.rc('ytick', labelsize=SMALL_SIZE)    # fontsize of the tick labels\n",
    "plt.rc('legend', fontsize=SMALL_SIZE)    # legend fontsize\n",
    "plt.rc('figure', titlesize=BIGGER_SIZE)  # fontsize of the figure title\n",
    "\n",
    "sns.set_style('whitegrid')\n",
    "\n"
   ]
  },
  {
   "cell_type": "code",
   "execution_count": null,
   "metadata": {},
   "outputs": [],
   "source": [
    "plt.style.use('fivethirtyeight')\n",
    "\n",
    "\n",
    "%matplotlib inline\n",
    "%config InlineBackend.figure_format = 'retina'"
   ]
  },
  {
   "cell_type": "markdown",
   "metadata": {},
   "source": [
    "Source: https://towardsdatascience.com/efficient-frontier-portfolio-optimisation-in-python-e7844051e7f"
   ]
  },
  {
   "cell_type": "markdown",
   "metadata": {},
   "source": [
    "to do:\n",
    "\n",
    "- (DONE) use scipy optimization to find efficient frontier \n",
    "- (DONE) implement the function that gives optimal portfolio for given return (efficient_return)\n",
    "\n",
    "- (DONE) find proper risk free rate: 0.17% currently the 52 week https://www.treasury.gov/resource-center/data-chart-center/interest-rates/Pages/TextView.aspx?data=billrates\n",
    "- **use small cap etf instead of iusn: VB https://etfdb.com/etf/VB/#etf-ticker-valuation-dividend**\n",
    "- also replace EUNA\n",
    "\n",
    "- find how far I am from optimal portfolio\n",
    "- Find sensible change to reduce volatility for the same return"
   ]
  },
  {
   "cell_type": "markdown",
   "metadata": {},
   "source": [
    "# Functions"
   ]
  },
  {
   "cell_type": "code",
   "execution_count": null,
   "metadata": {},
   "outputs": [],
   "source": [
    "def compute_change(dataframe):\n",
    "    if 'Price' in dataframe.columns:\n",
    "        dataframe = dataframe[['Date', 'Open', 'Price']][dataframe['Open']!= None]\n",
    "        dataframe['Open'] = dataframe['Open'].astype(float)\n",
    "        dataframe['Price'] =dataframe['Price'].astype(float)\n",
    "        dataframe['Change'] = dataframe['Price'] - dataframe['Open']\n",
    "        dataframe['Date'] = pd.to_datetime(dataframe['Date'])\n",
    "    else:\n",
    "        dataframe = dataframe[['Date', 'Open', 'Adj Close']][dataframe['Open']!= 'null']\n",
    "        dataframe['Open'] = dataframe['Open'].astype(float)\n",
    "        dataframe['Adj Close'] =dataframe['Adj Close'].astype(float)\n",
    "        dataframe['Change'] = dataframe['Adj Close'] - dataframe['Open']\n",
    "        dataframe['Date'] = pd.to_datetime(dataframe['Date'])\n",
    "    \n",
    "    return dataframe\n",
    "\n",
    "def compute_perc_change(dataframe):\n",
    "    if 'Price' in dataframe.columns:\n",
    "        dataframe['perc_change'] = dataframe['Price'].pct_change()\n",
    "    else:\n",
    "        dataframe['perc_change'] = dataframe['Adj Close'].pct_change()\n",
    "\n",
    "    return dataframe\n",
    "\n",
    "def apply_perc_change(portfolio):\n",
    "    for idx in range(len(portfolio)):\n",
    "        portfolio[idx] = compute_change(portfolio[idx])\n",
    "        portfolio[idx] = compute_perc_change(portfolio[idx])\n",
    "    \n",
    "    return portfolio\n",
    "\n",
    "def construct_portfolio_dictionary(dataframes_list, names, weights, description): \n",
    "    portfolio_dict = {'names': names,\n",
    "                 'frames': dataframes_list,\n",
    "                 'weights': weights,\n",
    "                  'description': description   }\n",
    "    \n",
    "    return portfolio_dict\n",
    "\n",
    "def print_length(name, dataframe):    \n",
    "    print(f'Number of days in \"{name}\" is {len(dataframe)}')\n",
    "    \n",
    "def print_date_range(name, dataframe):\n",
    "    print(f'Date range for \"{name}\" is from {str(dataframe[\"Date\"].min())}'+ f' to {str(dataframe[\"Date\"].max())}')\n",
    "          \n",
    "def plot_ts(dataframe, index):\n",
    "    if 'Price' in dataframe.columns:\n",
    "        fig = dataframe.plot(x='Date', y = 'Price')\n",
    "        \n",
    "    else: \n",
    "        fig = dataframe.plot(x='Date', y = 'Adj Close')\n",
    "                             \n",
    "    plt.title(index)\n",
    "    plt.xlabel('Date');\n",
    "    plt.ylabel('Closing Price')\n",
    "    \n",
    "    plt.show()\n",
    "          \n",
    "def compute_return_since_inception(dataframe):\n",
    "    if 'Price' in dataframe.columns:\n",
    "        p0 = float(dataframe[dataframe['Date'] == dataframe['Date'].min()]['Price'])\n",
    "        p1 = float(dataframe[dataframe['Date'] == dataframe['Date'].max()]['Price'])\n",
    "    else:\n",
    "        \n",
    "        p0 = float(dataframe[dataframe['Date'] == dataframe['Date'].min()]['Adj Close'])\n",
    "        p1 = float(dataframe[dataframe['Date'] == dataframe['Date'].max()]['Adj Close'])\n",
    "    \n",
    "    return (p1-p0)/p0\n",
    "\n",
    "def print_return_since_inception(dataframe, name):\n",
    "    returns_since_inception = compute_return_since_inception(dataframe)\n",
    "    \n",
    "    print(f'The returns since inception {str(dataframe[\"Date\"].min().date())} for \"{name}\" is {round(returns_since_inception*100,2)}%')\n",
    "          \n",
    "          \n",
    "          \n",
    "def find_intersection(list_df):\n",
    "    #Filter only non-null values\n",
    "    for idx in range(len(list_df)):\n",
    "        list_df[idx] = list_df[idx][list_df[idx]['perc_change'].notnull()]\n",
    "    \n",
    "    intersection_list = set(list_df[0]['Date']).intersection(set(list_df[1]['Date']))\n",
    "    for df in list_df[2:]:\n",
    "        intersection_list = intersection_list.intersection(set(df['Date']))\n",
    "    \n",
    "    common_dates = pd.Series(list(intersection_list))  \n",
    "    \n",
    "    minimum_date = str(common_dates.min().date())\n",
    "    maximum_date = str(common_dates.max().date())\n",
    "          \n",
    "    return common_dates, minimum_date, maximum_date\n",
    "          \n",
    "def intersect_dataframes(list_df): \n",
    "    # Common lengths\n",
    "    \n",
    "    intersection = list_df.copy()\n",
    "    common_dates, _, _ = find_intersection(intersection)\n",
    "    for idx in range(len(intersection)):\n",
    "        intersection[idx] = intersection[idx][intersection[idx]['Date'].isin(common_dates)]\n",
    "        \n",
    "    return intersection\n",
    "                    \n",
    "\n",
    "def create_matrix(list_df):\n",
    "    intersected = intersect_dataframes(list_df)\n",
    "    array_list = []\n",
    "\n",
    "    for df in intersected:\n",
    "        array_list.append(np.array(df['perc_change']))\n",
    "    matrix = np.array(array_list)\n",
    "    \n",
    "    return matrix\n",
    "              \n",
    "\n",
    "def compute_correlation_matrix(list_df):\n",
    "    matrix = create_matrix(list_df)\n",
    "    corrMatrix = np.corrcoef(matrix)\n",
    "    \n",
    "    return corrMatrix\n",
    "          \n",
    "def compute_covariance_matrix(list_df):\n",
    "    matrix = create_matrix(list_df)\n",
    "\n",
    "    covMatrix = np.cov(matrix, bias=True)\n",
    "    return covMatrix\n",
    "          \n",
    "def plot_correlation_matrix(list_df, names):\n",
    "    corr = compute_correlation_matrix(list_df)\n",
    "    \n",
    "    corrMatrix = pd.DataFrame(corr, columns = names, index = names)\n",
    "    if len(list_df)<=4:\n",
    "        fig = plt.subplots(figsize=(15,10))\n",
    "    else:\n",
    "        fig= plt.subplots(figsize=(20,10)) \n",
    "    \n",
    "    sns.heatmap(corrMatrix, annot=True, fmt='g')\n",
    "    plt.title('Correlation matrix')\n",
    "    \n",
    "    plt.show()\n",
    "          \n",
    "def plot_covariance_matrix(list_df, names):\n",
    "    cov = compute_covariance_matrix(list_df)\n",
    "    \n",
    "    covMatrix = pd.DataFrame(cov, columns = names, index = names)\n",
    "    if len(list_df)<=4:\n",
    "        fig = plt.subplots(figsize=(15,10))\n",
    "    else:\n",
    "        fig= plt.subplots(figsize=(20,10)) \n",
    "\n",
    "    sns.heatmap(covMatrix, annot=True, fmt='g')\n",
    "    plt.title('Covariance matrix')\n",
    "\n",
    "    plt.show()\n",
    "   \n",
    "\n",
    "def compute_mean_daily_returns(portfolio_dictionary):\n",
    "    intersected = intersect_dataframes(portfolio_dictionary['frames'])\n",
    "     # Compute mean daily return per ETF\n",
    "    mean_daily_returns = []\n",
    "    for df in intersected:\n",
    "        mean_daily_returns.append(df['perc_change'].mean())\n",
    "    \n",
    "    return mean_daily_returns\n",
    "          \n",
    "def compute_annualized_returns_no_intersection(portfolio_dictionary):\n",
    "     # Compute mean daily return per ETF, using all the years\n",
    "    mean_daily_returns = []\n",
    "    for df in portfolio_dictionary['frames']:\n",
    "        mean_daily_returns.append(df['perc_change'].mean())\n",
    "    \n",
    "    weights = np.array(portfolio_dictionary['weights'])\n",
    "\n",
    "    portfolio_returns = np.sum(mean_daily_returns*weights ) *252\n",
    "              \n",
    "    return portfolio_returns\n",
    "\n",
    "def portfolio_annualised_performance(portfolio_dictionary):\n",
    "    cov_matrix = compute_covariance_matrix(portfolio_dictionary['frames']) \n",
    "\n",
    "    weights = np.array(portfolio_dictionary['weights'])\n",
    "\n",
    "    mean_daily_returns = compute_mean_daily_returns(portfolio_dictionary)\n",
    "          \n",
    "    portfolio_returns = np.sum(mean_daily_returns*weights ) *252\n",
    "    \n",
    "    portfolio_std = np.sqrt(np.dot(weights.T, np.dot(cov_matrix, weights))) * np.sqrt(252)\n",
    "    \n",
    "    return portfolio_returns, portfolio_std\n",
    "\n",
    "def random_portfolios(num_portfolios, portfolio, names, risk_free_rate, description):\n",
    "    \n",
    "    for idx in range(len(portfolio)):\n",
    "        portfolio[idx] = compute_perc_change(portfolio[idx])\n",
    "    \n",
    "    num_etfs = len(portfolio)\n",
    "    \n",
    "    results = np.zeros((3,num_portfolios))\n",
    "    weights_record = []\n",
    "    \n",
    "    \n",
    "    \n",
    "    for idx in range(num_portfolios):\n",
    "        # generate num_etfs random numbers\n",
    "        weights = np.random.random(num_etfs)\n",
    "        # Make sure that their sum, sums up to 1\n",
    "        weights /= np.sum(weights)\n",
    "        weights_record.append(weights)\n",
    "    \n",
    "        portfolio_dict = construct_portfolio_dictionary(portfolio, names, weights, description)\n",
    "        \n",
    "        portfolio_returns, portfolio_std = portfolio_annualised_performance(portfolio_dict)\n",
    "        \n",
    "        results[0,idx] = portfolio_std\n",
    "        results[1,idx] = portfolio_returns\n",
    "        results[2,idx] = (portfolio_returns - risk_free_rate) / portfolio_std\n",
    "        \n",
    "    return results, weights_record\n",
    "          \n",
    "def display_simulated_ef_with_random(portfolio, names, num_portfolios, risk_free_rate, description):\n",
    "    results, weights = random_portfolios(num_portfolios, portfolio, names, risk_free_rate, description)\n",
    "        \n",
    "    max_sharpe_idx = np.argmax(results[2])\n",
    "    sdp, rp = results[0,max_sharpe_idx], results[1,max_sharpe_idx]\n",
    "    max_sharpe_allocation = pd.DataFrame(weights[max_sharpe_idx],index=names,columns=['allocation'])\n",
    "    #max_sharpe_allocation.allocation = [round(i*100,2)for i in max_sharpe_allocation.allocation]\n",
    "    max_sharpe_allocation = max_sharpe_allocation.apply(lambda x: round(x*100,2))\n",
    "    max_sharpe_allocation = max_sharpe_allocation.T\n",
    "    \n",
    "    min_vol_idx = np.argmin(results[0])\n",
    "    sdp_min, rp_min = results[0,min_vol_idx], results[1,min_vol_idx]\n",
    "    min_vol_allocation = pd.DataFrame(weights[min_vol_idx],index=names,columns=['allocation'])\n",
    "    #min_vol_allocation.allocation = [round(i*100,2)for i in min_vol_allocation.allocation]\n",
    "    min_vol_allocation = min_vol_allocation.apply(lambda x: round(x*100,2))\n",
    "    min_vol_allocation = min_vol_allocation.T\n",
    "    \n",
    "    print(\"-\"*80)\n",
    "    print(\"Maximum Sharpe Ratio Portfolio Allocation\\n\")\n",
    "    print(\"Annualised Return:\", round(rp,2))\n",
    "    print(\"Annualised Volatility:\", round(sdp,2))\n",
    "    print(\"\\n\")\n",
    "    print(max_sharpe_allocation)\n",
    "    print(\"-\"*80)\n",
    "    print(\"Minimum Volatility Portfolio Allocation\\n\")\n",
    "    print(\"Annualised Return:\", round(rp_min,2))\n",
    "    print(\"Annualised Volatility:\", round(sdp_min,2))\n",
    "    print(\"\\n\")\n",
    "    print(min_vol_allocation)\n",
    "    \n",
    "    plt.figure(figsize=(15, 10))\n",
    "    plt.scatter(results[0,:],results[1,:],c=results[2,:],cmap='YlGnBu', marker='o', s=10, alpha=0.3)\n",
    "    plt.colorbar()\n",
    "    plt.scatter(sdp,rp,marker='*',color='r',s=500, label='Maximum Sharpe ratio')\n",
    "    plt.scatter(sdp_min,rp_min,marker='*',color='g',s=500, label='Minimum volatility')\n",
    "    plt.title(f'Efficient Frontier: {num_portfolios} simulated portfolios', size=25)\n",
    "    plt.xlabel('Annualised volatility', size = 20)\n",
    "    plt.ylabel('Annualised returns', size = 20)\n",
    "    plt.legend(labelspacing=0.8)\n",
    "    \n",
    "    plt.savefig(f'figures/efficient_frontier_{num_portfolios}_portfolios.png', dpi=250)\n",
    "    plt.show();\n",
    "          "
   ]
  },
  {
   "cell_type": "markdown",
   "metadata": {},
   "source": [
    "# Analysis"
   ]
  },
  {
   "cell_type": "code",
   "execution_count": null,
   "metadata": {},
   "outputs": [],
   "source": [
    "# Load dataframes\n",
    "EMIM = pd.read_csv('/Users/Fosa/PythonProjects/Portfolio Management/Historical_data/EMIM.AS.csv')\n",
    "EUNA = pd.read_csv('/Users/Fosa/PythonProjects/Portfolio Management/Historical_data/EUNA.csv')\n",
    "IEAG = pd.read_csv('/Users/Fosa/PythonProjects/Portfolio Management/Historical_data/IEAG.AS.csv')\n",
    "IWDA = pd.read_csv('/Users/Fosa/PythonProjects/Portfolio Management/Historical_data/IWDA.AS.csv')\n",
    "IUSN = pd.read_csv('/Users/Fosa/PythonProjects/Portfolio Management/Historical_data/IUSN.csv')\n",
    "IWVL = pd.read_csv('/Users/Fosa/PythonProjects/Portfolio Management/Historical_data/IWVL.csv')\n",
    "TRET = pd.read_csv('/Users/Fosa/PythonProjects/Portfolio Management/Historical_data/TRET.csv')"
   ]
  },
  {
   "cell_type": "code",
   "execution_count": null,
   "metadata": {},
   "outputs": [],
   "source": [
    "# Construct portfolio\n",
    "\n",
    "portfolio = [IWDA, EMIM, IWVL, IUSN, TRET, EUNA, IEAG]\n",
    "names = ['IWDA', 'EMIM', 'IWVL', 'IUSN', 'TRET', 'EUNA', 'IEAG']\n",
    "description = ['Developed Markets', 'Emerging Markets', 'World Small Cap', 'World Value', 'REIT', 'EU bond ETF', 'Global bond ETF']\n",
    "weights = [0.36, 0.12, 0.12, 0.12, 0.08, 0.1, 0.1]\n"
   ]
  },
  {
   "cell_type": "code",
   "execution_count": null,
   "metadata": {
    "scrolled": false
   },
   "outputs": [],
   "source": [
    "# Add absolute and percentage change, and set Date to Datetime\n",
    "\n",
    "portfolio = apply_perc_change(portfolio)\n",
    "\n",
    "# Construt dictionary of the portfolio\n",
    "portfolio_dict = construct_portfolio_dictionary(portfolio, names, weights, description)"
   ]
  },
  {
   "cell_type": "code",
   "execution_count": null,
   "metadata": {},
   "outputs": [],
   "source": [
    "# Print length of each dataframe\n",
    "for idx in range(len(portfolio_dict['names'])):\n",
    "    print_length(portfolio_dict['names'][idx], portfolio_dict['frames'][idx])"
   ]
  },
  {
   "cell_type": "code",
   "execution_count": null,
   "metadata": {},
   "outputs": [],
   "source": [
    "for idx in range(len(portfolio_dict['names'])):\n",
    "    print_date_range(portfolio_dict['names'][idx], portfolio_dict['frames'][idx])"
   ]
  },
  {
   "cell_type": "markdown",
   "metadata": {},
   "source": [
    "\n",
    "# To do\n",
    "\n",
    "Find: \n",
    "\n",
    "- return since inception (DONE)\n",
    "- yearly returns (DONE)\n",
    "- average yearly return \n",
    "- standard deviation: sqrt(average yearly return / number of years) (DONE)\n",
    "- covariance of the portfolio (DONE)\n",
    "\n",
    "\n",
    "\n",
    "- Check if it makes sense to compute returns of portfolio using larger time periods\n",
    "- find efficinet frontier\n",
    "- Use another small cap index to have more data\n",
    "- polish script and upload git"
   ]
  },
  {
   "cell_type": "code",
   "execution_count": null,
   "metadata": {
    "scrolled": false
   },
   "outputs": [],
   "source": [
    "for idx in range(len(portfolio_dict['names'])):\n",
    "    plot_ts(portfolio_dict['frames'][idx], portfolio_dict['description'][idx])"
   ]
  },
  {
   "cell_type": "markdown",
   "metadata": {},
   "source": [
    "## Covariance matrix"
   ]
  },
  {
   "cell_type": "code",
   "execution_count": null,
   "metadata": {},
   "outputs": [],
   "source": [
    "# Compute covariance and correlation matrices\n",
    "corr_matrix = compute_correlation_matrix(portfolio_dict['frames'])\n",
    "cov_matrix = compute_covariance_matrix(portfolio_dict['frames'])\n",
    "\n"
   ]
  },
  {
   "cell_type": "code",
   "execution_count": null,
   "metadata": {},
   "outputs": [],
   "source": [
    "# Plot correlation matrix\n",
    "plot_correlation_matrix(portfolio_dict['frames'], portfolio_dict['names'])"
   ]
  },
  {
   "cell_type": "code",
   "execution_count": null,
   "metadata": {},
   "outputs": [],
   "source": [
    "# Plot covariance matrix\n",
    "plot_covariance_matrix(portfolio_dict['frames'], portfolio_dict['names'])"
   ]
  },
  {
   "cell_type": "markdown",
   "metadata": {},
   "source": [
    "## Compute risk and return of the portfolio"
   ]
  },
  {
   "cell_type": "code",
   "execution_count": null,
   "metadata": {
    "scrolled": true
   },
   "outputs": [],
   "source": [
    "portfolio_returns, portfolio_std = portfolio_annualised_performance(portfolio_dict)\n",
    "_, min_date, max_date = find_intersection(portfolio_dict['frames'])\n",
    "\n",
    "print(f'The annualized return of the portfolio is {round(portfolio_returns*100,2)}% and the risk is {round(portfolio_std*100,2)}%' )\n",
    "print('\\n')\n",
    "print(f'The portfolio minimum date is {min_date} and maximum date is {max_date}')"
   ]
  },
  {
   "cell_type": "code",
   "execution_count": null,
   "metadata": {
    "scrolled": true
   },
   "outputs": [],
   "source": [
    "# Compute return of portfolio without constraining the time periods \n",
    "\n",
    "portfolio_returns_no_intersection = compute_annualized_returns_no_intersection(portfolio_dict)\n",
    "print(f'The portfolio returns using all the years in all ETFs are {round(portfolio_returns_no_intersection*100,2)}%')"
   ]
  },
  {
   "cell_type": "markdown",
   "metadata": {},
   "source": [
    "- This number does not tell much, because we do not account for past returns of the ETFs that have short periods."
   ]
  },
  {
   "cell_type": "markdown",
   "metadata": {},
   "source": [
    "- Compute efficient frontier"
   ]
  },
  {
   "cell_type": "markdown",
   "metadata": {},
   "source": [
    "# Generate random portfolios"
   ]
  },
  {
   "cell_type": "code",
   "execution_count": null,
   "metadata": {
    "scrolled": true
   },
   "outputs": [],
   "source": [
    "### Not working, fix\n",
    "portfolio = [IWDA, EMIM, IWVL, IUSN, TRET, EUNA, IEAG]\n",
    "names = ['IWDA', 'EMIM', 'IWVL', 'IUSN', 'TRET', 'EUNA', 'IEAG']\n",
    "description = ['Developed Markets', 'Emerging Markets', 'World Small Cap', 'World Value', 'REIT', 'EU bond ETF', 'Global bond ETF']\n",
    "\n",
    "\n",
    "\n",
    "results, weights_record = random_portfolios(5, portfolio, names, risk_free_rate=0.0178, description=description)"
   ]
  },
  {
   "cell_type": "markdown",
   "metadata": {},
   "source": [
    "## Plot the portfolios"
   ]
  },
  {
   "cell_type": "code",
   "execution_count": 22,
   "metadata": {
    "scrolled": false
   },
   "outputs": [
    {
     "name": "stdout",
     "output_type": "stream",
     "text": [
      "--------------------------------------------------------------------------------\n",
      "Maximum Sharpe Ratio Portfolio Allocation\n",
      "\n",
      "Annualised Return: 0.1\n",
      "Annualised Volatility: 0.11\n",
      "\n",
      "\n",
      "             IWDA  EMIM   IWVL  IUSN   TRET  EUNA   IEAG\n",
      "allocation  21.53  2.22  31.73  1.55  19.67  2.39  20.91\n",
      "--------------------------------------------------------------------------------\n",
      "Minimum Volatility Portfolio Allocation\n",
      "\n",
      "Annualised Return: 0.03\n",
      "Annualised Volatility: 0.06\n",
      "\n",
      "\n",
      "            IWDA  EMIM   IWVL  IUSN  TRET   EUNA   IEAG\n",
      "allocation  6.02  14.4  12.79  2.06  5.64  32.92  26.18\n"
     ]
    },
    {
     "data": {
      "image/png": "[encoded data removed]",
      "text/plain": [
       "<matplotlib.figure.Figure at 0x7ff31591e5c0>"
      ]
     },
     "metadata": {
      "image/png": {
       "height": 625,
       "width": 935
      }
     },
     "output_type": "display_data"
    }
   ],
   "source": [
    "# Display many portfolios\n",
    "\n",
    "portfolio = [IWDA, EMIM, IWVL, IUSN, TRET, EUNA, IEAG]\n",
    "names = ['IWDA', 'EMIM', 'IWVL', 'IUSN', 'TRET', 'EUNA', 'IEAG']\n",
    "description = ['Developed Markets', 'Emerging Markets', 'World Small Cap', 'World Value', 'REIT', 'EU bond ETF', 'Global bond ETF']\n",
    "\n",
    "\n",
    "\n",
    "for idx in range(len(portfolio)):\n",
    "    portfolio[idx] = compute_change(portfolio[idx])\n",
    "    portfolio[idx] = compute_perc_change(portfolio[idx])\n",
    "\n",
    "num_portfolios = 500\n",
    "num_etfs = len(portfolio)\n",
    "risk_free_rate = 0.0178\n",
    "\n",
    "\n",
    "display_simulated_ef_with_random(portfolio, names, num_portfolios, risk_free_rate, description)"
   ]
  },
  {
   "cell_type": "code",
   "execution_count": null,
   "metadata": {
    "scrolled": false
   },
   "outputs": [],
   "source": [
    "# Display many portfolios\n",
    "\n",
    "portfolio = [IWDA, EMIM, IWVL, IUSN, TRET, EUNA, IEAG]\n",
    "names = ['IWDA', 'EMIM', 'IWVL', 'IUSN', 'TRET', 'EUNA', 'IEAG']\n",
    "\n",
    "for idx in range(len(portfolio)):\n",
    "    portfolio[idx] = compute_change(portfolio[idx])\n",
    "    portfolio[idx] = compute_perc_change(portfolio[idx])\n",
    "\n",
    "num_portfolios = 80000\n",
    "num_etfs = len(portfolio)\n",
    "risk_free_rate = 0.0178\n",
    "\n",
    "\n",
    "display_simulated_ef_with_random(portfolio, names, num_portfolios, risk_free_rate)"
   ]
  },
  {
   "cell_type": "code",
   "execution_count": null,
   "metadata": {
    "scrolled": false
   },
   "outputs": [],
   "source": [
    "# Display many portfolios\n",
    "\n",
    "portfolio = [IWDA, EMIM, IWVL, IUSN, TRET, EUNA, IEAG]\n",
    "names = ['IWDA', 'EMIM', 'IWVL', 'IUSN', 'TRET', 'EUNA', 'IEAG']\n",
    "\n",
    "for idx in range(len(portfolio)):\n",
    "    portfolio[idx] = compute_change(portfolio[idx])\n",
    "    portfolio[idx] = compute_perc_change(portfolio[idx])\n",
    "\n",
    "num_portfolios = 55000\n",
    "num_etfs = len(portfolio)\n",
    "risk_free_rate = 0.0178\n",
    "\n",
    "display_simulated_ef_with_random(portfolio, names, num_portfolios, risk_free_rate)"
   ]
  },
  {
   "cell_type": "code",
   "execution_count": null,
   "metadata": {},
   "outputs": [],
   "source": [
    "# Display many portfolios\n",
    "\n",
    "portfolio = [IWDA, EMIM, IWVL, IUSN, TRET, EUNA, IEAG]\n",
    "names = ['IWDA', 'EMIM', 'IWVL', 'IUSN', 'TRET', 'EUNA', 'IEAG']\n",
    "\n",
    "for idx in range(len(portfolio)):\n",
    "    portfolio[idx] = compute_change(portfolio[idx])\n",
    "    portfolio[idx] = compute_perc_change(portfolio[idx])\n",
    "\n",
    "num_portfolios = 55000\n",
    "num_etfs = len(portfolio)\n",
    "risk_free_rate = 0.0178\n",
    "\n",
    "display_simulated_ef_with_random(portfolio, names, num_portfolios, risk_free_rate)"
   ]
  },
  {
   "cell_type": "markdown",
   "metadata": {},
   "source": [
    "### Try with fewer assets"
   ]
  },
  {
   "cell_type": "code",
   "execution_count": null,
   "metadata": {
    "scrolled": false
   },
   "outputs": [],
   "source": [
    "# Display many portfolios\n",
    "\n",
    "portfolio = [IWDA, IEAG]\n",
    "names = ['IWDA', 'IEAG']\n",
    "description = ['World', 'Global BOND']\n",
    "\n",
    "for idx in range(len(portfolio)):\n",
    "    portfolio[idx] = compute_change(portfolio[idx])\n",
    "    portfolio[idx] = compute_perc_change(portfolio[idx])\n",
    "\n",
    "num_portfolios = 3000\n",
    "num_etfs = len(portfolio)\n",
    "risk_free_rate = 0.17 / 100\n",
    "\n",
    "display_simulated_ef_with_random(portfolio, names, num_portfolios, risk_free_rate, description)"
   ]
  },
  {
   "cell_type": "code",
   "execution_count": null,
   "metadata": {},
   "outputs": [],
   "source": [
    "# DEBUG THIS!!!!!!!!!!!!!!!\n",
    "# Display many portfolios\n",
    "\n",
    "portfolio = [IWDA, EMIM, IEAG]\n",
    "names = ['IWDA', 'EMIM', 'IEAG']\n",
    "description = ['World', 'Emerging']\n",
    "for idx in range(len(portfolio)):\n",
    "    portfolio[idx] = compute_change(portfolio[idx])\n",
    "    portfolio[idx] = compute_perc_change(portfolio[idx])\n",
    "\n",
    "num_portfolios = 500\n",
    "num_etfs = len(portfolio)\n",
    "risk_free_rate = 0.17 / 100\n",
    "\n",
    "display_simulated_ef_with_random(portfolio, names, num_portfolios, risk_free_rate, description)"
   ]
  },
  {
   "cell_type": "markdown",
   "metadata": {},
   "source": [
    "# Use scipy to find optimal portfolios"
   ]
  },
  {
   "cell_type": "code",
   "execution_count": 23,
   "metadata": {},
   "outputs": [],
   "source": [
    "# Correct way\n",
    "\n",
    "\n",
    "# Create neg_sharpe_ratio by using weights\n",
    "\n",
    "def neg_sharpe_ratio(weights, portfolio, names, risk_free_rate):\n",
    "    \"\"\"\n",
    "    Computes the negative sharpe ratio\n",
    "    \"\"\"\n",
    "    \n",
    "    portfolio_dictionary = construct_portfolio_dictionary(portfolio, names, weights, [\"NA\"])\n",
    "    p_ret, p_std = portfolio_annualised_performance(portfolio_dictionary)\n",
    "    return -(p_ret - risk_free_rate) / p_std\n",
    "\n",
    "def portfolio_volatility(weights, portfolio, names):\n",
    "    \"\"\"\n",
    "    Computes the portfolio's volatility\n",
    "    \"\"\"\n",
    "    \n",
    "    portfolio_dictionary = construct_portfolio_dictionary(portfolio, names, weights, [\"NA\"])\n",
    "    p_ret, p_std = portfolio_annualised_performance(portfolio_dictionary)\n",
    "    return p_std\n",
    "\n",
    "def max_sharpe_ratio(portfolio, names, risk_free_rate):\n",
    "    \"\"\"\n",
    "    Maximizes the sharpe ratio\n",
    "    \"\"\"\n",
    "    \n",
    "    num_assets = len(portfolio)\n",
    "    args = (portfolio, names, risk_free_rate)\n",
    "    constraints = ({'type': 'eq', 'fun': lambda x: np.sum(x) - 1})\n",
    "    bound = (0.0,1.0)\n",
    "    bounds = tuple(bound for asset in range(num_assets))\n",
    "    result = sco.minimize(neg_sharpe_ratio, num_assets*[1./num_assets,], args=args,\n",
    "                        method='SLSQP', bounds=bounds, constraints=constraints)\n",
    "    \n",
    "    return result\n",
    "\n",
    "def min_variance(portfolio, names):\n",
    "    \"\"\"\n",
    "    Minimizes the variance\n",
    "    \"\"\"\n",
    "    \n",
    "    num_assets = len(portfolio)\n",
    "    args = (portfolio, names)\n",
    "    constraints = ({'type': 'eq', 'fun': lambda x: np.sum(x) - 1})\n",
    "    bound = (0.0,1.0)\n",
    "    bounds = tuple(bound for asset in range(num_assets))\n",
    "    \n",
    "    result = sco.minimize(portfolio_volatility, num_assets*[1./num_assets,], args=args,\n",
    "                        method='SLSQP', bounds=bounds, constraints=constraints)\n",
    "    \n",
    "    return result"
   ]
  },
  {
   "cell_type": "code",
   "execution_count": 26,
   "metadata": {},
   "outputs": [],
   "source": [
    "# Test the maximization of the sharpe ratio\n",
    "portfolio = [IWDA, EMIM, IWVL, IUSN, TRET, EUNA, IEAG]\n",
    "names = ['IWDA', 'EMIM', 'IWVL', 'IUSN', 'TRET', 'EUNA', 'IEAG']\n",
    "description = ['Developed Markets', 'Emerging Markets', 'World Small Cap', 'World Value', 'REIT', 'EU bond ETF', 'Global bond ETF']\n",
    "\n",
    "portfolio = apply_perc_change(portfolio)\n",
    "\n",
    "\n",
    "#num_etfs = len(portfolio)\n",
    "risk_free_rate = 0.0178\n",
    "#weights = [0.36, 0.12, 0.12, 0.12, 0.08, 0.1, 0.1]\n",
    "\n",
    "max_sharpe_result = max_sharpe_ratio(portfolio, names, risk_free_rate)\n",
    "min_variance_result = min_variance(portfolio, names)"
   ]
  },
  {
   "cell_type": "code",
   "execution_count": 27,
   "metadata": {},
   "outputs": [],
   "source": [
    "# Add efficient return\n",
    "target = 0.08\n",
    "\n",
    "num_assets = len(portfolio)\n",
    "\n",
    "def portfolio_return(weights):\n",
    "    \n",
    "    portfolio_dictionary = construct_portfolio_dictionary(portfolio, names, weights, [\"NA\"])\n",
    "    p_ret, _ = portfolio_annualised_performance(portfolio_dictionary)\n",
    "    \n",
    "    return p_ret\n",
    "\n",
    "args = (portfolio, names)\n",
    "constraints = ({'type': 'eq', 'fun': lambda x: portfolio_return(x) - target},\n",
    "                   {'type': 'eq', 'fun': lambda x: np.sum(x) - 1})\n",
    "bounds = tuple((0,1) for asset in range(num_assets))\n",
    "result = sco.minimize(portfolio_volatility, num_assets*[1./num_assets,], args=args, method='SLSQP', bounds=bounds, constraints=constraints)    "
   ]
  },
  {
   "cell_type": "code",
   "execution_count": 28,
   "metadata": {},
   "outputs": [],
   "source": [
    "def efficient_return(portfolio, names, target_return):\n",
    "    \"\"\"\n",
    "    Finds the weights for minimal volatility given target_return\n",
    "    \"\"\"\n",
    "    \n",
    "    num_assets = len(portfolio)\n",
    "\n",
    "    def portfolio_return(weights):\n",
    "        \n",
    "        portfolio_dictionary = construct_portfolio_dictionary(portfolio, names, weights, [\"NA\"])\n",
    "        p_ret, _ = portfolio_annualised_performance(portfolio_dictionary)\n",
    "        \n",
    "        return p_ret\n",
    "    \n",
    "    args = (portfolio, names)\n",
    "    constraints = ({'type': 'eq', 'fun': lambda x: portfolio_return(x) - target_return},\n",
    "                       {'type': 'eq', 'fun': lambda x: np.sum(x) - 1})\n",
    "    bounds = tuple((0,1) for asset in range(num_assets))\n",
    "    result = sco.minimize(portfolio_volatility, num_assets*[1./num_assets,], args=args, method='SLSQP', bounds=bounds, constraints=constraints)\n",
    "    \n",
    "    return result\n",
    "\n",
    "def efficient_frontier(portfolio, names, returns_range):\n",
    "    efficients = []\n",
    "    for ret in returns_range:\n",
    "        efficients.append(efficient_return(portfolio, names, ret))\n",
    "    return efficients"
   ]
  },
  {
   "cell_type": "code",
   "execution_count": 29,
   "metadata": {},
   "outputs": [
    {
     "data": {
      "text/plain": [
       "     fun: 0.03443984808713823\n",
       "     jac: array([ 0.05468989,  0.05953893,  0.06634814,  0.06224483,  0.05169738,\n",
       "        0.00162235,  0.03377442])\n",
       " message: 'Optimization terminated successfully.'\n",
       "    nfev: 81\n",
       "     nit: 9\n",
       "    njev: 9\n",
       "  status: 0\n",
       " success: True\n",
       "       x: array([ 0.03485094,  0.        ,  0.04918659,  0.        ,  0.0033312 ,\n",
       "        0.0536635 ,  0.85896777])"
      ]
     },
     "execution_count": 29,
     "metadata": {},
     "output_type": "execute_result"
    }
   ],
   "source": [
    "# Test efficient frontier\n",
    "portfolio = [IWDA, EMIM, IWVL, IUSN, TRET, EUNA, IEAG]\n",
    "names = ['IWDA', 'EMIM', 'IWVL', 'IUSN', 'TRET', 'EUNA', 'IEAG']\n",
    "description = ['Developed Markets', 'Emerging Markets', 'World Small Cap', 'World Value', 'REIT', 'EU bond ETF', 'Global bond ETF']\n",
    "\n",
    "portfolio = apply_perc_change(portfolio)\n",
    "\n",
    "efficient_return(portfolio, names, target_return = 0.05)\n",
    "\n"
   ]
  },
  {
   "cell_type": "code",
   "execution_count": null,
   "metadata": {},
   "outputs": [],
   "source": [
    "rp_min = 0.05\n",
    "np.linspace(rp_min, 0.32, 50)"
   ]
  },
  {
   "cell_type": "code",
   "execution_count": null,
   "metadata": {},
   "outputs": [],
   "source": [
    "rp_min = 0.05\n",
    "returns_range = np.linspace(rp_min, 0.08, 50) # Creates a range of possible returns from 5% to 32%"
   ]
  },
  {
   "cell_type": "code",
   "execution_count": null,
   "metadata": {},
   "outputs": [],
   "source": [
    "efficient_frontier(portfolio, names, returns_range)"
   ]
  },
  {
   "cell_type": "markdown",
   "metadata": {},
   "source": [
    "# Plot the efficient frontier computed with Scipy"
   ]
  },
  {
   "cell_type": "code",
   "execution_count": 30,
   "metadata": {},
   "outputs": [],
   "source": [
    "def display_simulated_ef_with_random(portfolio, names, num_portfolios, risk_free_rate, description):\n",
    "    results, weights = random_portfolios(num_portfolios, portfolio, names, risk_free_rate, description)\n",
    "        \n",
    "    max_sharpe_idx = np.argmax(results[2])\n",
    "    sdp, rp = results[0,max_sharpe_idx], results[1,max_sharpe_idx]\n",
    "    max_sharpe_allocation = pd.DataFrame(weights[max_sharpe_idx],index=names,columns=['allocation'])\n",
    "    #max_sharpe_allocation.allocation = [round(i*100,2)for i in max_sharpe_allocation.allocation]\n",
    "    max_sharpe_allocation = max_sharpe_allocation.apply(lambda x: round(x*100,2))\n",
    "    max_sharpe_allocation = max_sharpe_allocation.T\n",
    "    \n",
    "    min_vol_idx = np.argmin(results[0])\n",
    "    sdp_min, rp_min = results[0,min_vol_idx], results[1,min_vol_idx]\n",
    "    min_vol_allocation = pd.DataFrame(weights[min_vol_idx],index=names,columns=['allocation'])\n",
    "    #min_vol_allocation.allocation = [round(i*100,2)for i in min_vol_allocation.allocation]\n",
    "    min_vol_allocation = min_vol_allocation.apply(lambda x: round(x*100,2))\n",
    "    min_vol_allocation = min_vol_allocation.T\n",
    "    \n",
    "    print(\"-\"*80)\n",
    "    print(\"Maximum Sharpe Ratio Portfolio Allocation\\n\")\n",
    "    print(\"Annualised Return:\", round(rp,2))\n",
    "    print(\"Annualised Volatility:\", round(sdp,2))\n",
    "    print(\"\\n\")\n",
    "    print(max_sharpe_allocation)\n",
    "    print(\"-\"*80)\n",
    "    print(\"Minimum Volatility Portfolio Allocation\\n\")\n",
    "    print(\"Annualised Return:\", round(rp_min,2))\n",
    "    print(\"Annualised Volatility:\", round(sdp_min,2))\n",
    "    print(\"\\n\")\n",
    "    print(min_vol_allocation)\n",
    "    \n",
    "    plt.figure(figsize=(15, 10))\n",
    "    plt.scatter(results[0,:],results[1,:],c=results[2,:],cmap='YlGnBu', marker='o', s=10, alpha=0.3)\n",
    "    plt.colorbar()\n",
    "    plt.scatter(sdp,rp,marker='*',color='r',s=500, label='Maximum Sharpe ratio')\n",
    "    plt.scatter(sdp_min,rp_min,marker='*',color='g',s=500, label='Minimum volatility')\n",
    "    plt.title(f'Efficient Frontier: {num_portfolios} simulated portfolios', size=25)\n",
    "    plt.xlabel('Annualised volatility', size = 20)\n",
    "    plt.ylabel('Annualised returns', size = 20)\n",
    "    plt.legend(labelspacing=0.8)\n",
    "    \n",
    "    plt.savefig(f'figures/efficient_frontier_{num_portfolios}_portfolios.png', dpi=250)\n",
    "    plt.show();"
   ]
  },
  {
   "cell_type": "code",
   "execution_count": 31,
   "metadata": {},
   "outputs": [],
   "source": [
    "def display_calculated_ef_with_random(portfolio, names, num_portfolios, risk_free_rate, max_return, num_samples):\n",
    "    \n",
    "    #results, _ = random_portfolios(num_portfolios,mean_returns, cov_matrix, risk_free_rate)\n",
    "    results, _ = random_portfolios(num_portfolios, portfolio, names, risk_free_rate, ['NA'])\n",
    "    \n",
    "    max_sharpe = max_sharpe_ratio(portfolio, names, risk_free_rate)\n",
    "\n",
    "    #sdp, rp = portfolio_annualised_performance(max_sharpe['x'], mean_returns, cov_matrix)\n",
    "    \n",
    "    portfolio_dictionary = construct_portfolio_dictionary(portfolio, names, weights, [\"NA\"])\n",
    "    p_ret, p_std = portfolio_annualised_performance(portfolio_dictionary)\n",
    "    \n",
    "    max_sharpe_allocation = pd.DataFrame(max_sharpe.x,index=names,columns=['allocation'])\n",
    "    #max_sharpe_allocation.allocation = [round(i*100,2)for i in max_sharpe_allocation.allocation]\n",
    "    max_sharpe_allocation = max_sharpe_allocation.apply(lambda x: round(x*100,2))\n",
    "    max_sharpe_allocation = max_sharpe_allocation.T\n",
    "\n",
    "    \n",
    "    \n",
    "    # FIX MIN VOL\n",
    "    min_vol = min_variance(portfolio, names)\n",
    "    \n",
    "    #sdp_min, rp_min = portfolio_annualised_performance(min_vol['x'], mean_returns, cov_matrix)\n",
    "    \n",
    "    portfolio_dictionary = construct_portfolio_dictionary(portfolio, names, min_vol['x'], [\"NA\"])\n",
    "    p_ret_min, p_std_min = portfolio_annualised_performance(portfolio_dictionary)\n",
    "\n",
    "    \n",
    "    min_vol_allocation = pd.DataFrame(min_vol.x,index=names,columns=['allocation'])\n",
    "    #min_vol_allocation.allocation = [round(i*100,2)for i in min_vol_allocation.allocation]\n",
    "    min_vol_allocation = min_vol_allocation.apply(lambda x: round(x*100,2))\n",
    "    min_vol_allocation = min_vol_allocation.T\n",
    "    \n",
    "    print(\"-\"*80)\n",
    "    print(\"Maximum Sharpe Ratio Portfolio Allocation\\n\")\n",
    "    print(\"Annualised Return:\", round(p_ret,2))\n",
    "    print(\"Annualised Volatility:\", round(p_std,2))\n",
    "    print(\"\\n\")\n",
    "    print(max_sharpe_allocation)\n",
    "    print(\"-\"*80)\n",
    "    print(\"Minimum Volatility Portfolio Allocation\\n\")\n",
    "    print(\"Annualised Return:\", round(p_ret_min,2))\n",
    "    print(\"Annualised Volatility:\", round(p_std_min,2))\n",
    "    print(\"\\n\")\n",
    "    print(min_vol_allocation)\n",
    "    \n",
    "    plt.figure(figsize=(15, 10))\n",
    "    plt.scatter(results[0,:],results[1,:],c=results[2,:],cmap='YlGnBu', marker='o', s=10, alpha=0.3)\n",
    "    plt.colorbar()\n",
    "    plt.scatter(p_std,p_ret,marker='*',color='r',s=500, label='Maximum Sharpe ratio')\n",
    "    plt.scatter(p_std_min,p_ret_min,marker='*',color='g',s=500, label='Minimum volatility')\n",
    "\n",
    "    target = np.linspace(p_ret_min, max_return, num_samples)\n",
    "    efficient_portfolios =  efficient_frontier(portfolio, names, target)\n",
    "   \n",
    "    plt.plot([p['fun'] for p in efficient_portfolios], target, linestyle='-.', color='black', label='efficient frontier')\n",
    "    plt.title('Calculated Portfolio Optimization based on Efficient Frontier', size=25)\n",
    "    plt.xlabel('annualised volatility', size = 20)\n",
    "    plt.ylabel('annualised returns', size = 20)\n",
    "    plt.legend(labelspacing=0.8)\n",
    "    \n",
    "    plt.show();"
   ]
  },
  {
   "cell_type": "code",
   "execution_count": null,
   "metadata": {},
   "outputs": [
    {
     "name": "stdout",
     "output_type": "stream",
     "text": [
      "--------------------------------------------------------------------------------\n",
      "Maximum Sharpe Ratio Portfolio Allocation\n",
      "\n",
      "Annualised Return: 0.08\n",
      "Annualised Volatility: 0.11\n",
      "\n",
      "\n",
      "            IWDA  EMIM  IWVL  IUSN  TRET  EUNA   IEAG\n",
      "allocation  5.97   0.0  8.62   0.0   0.0   0.0  85.41\n",
      "--------------------------------------------------------------------------------\n",
      "Minimum Volatility Portfolio Allocation\n",
      "\n",
      "Annualised Return: 0.0\n",
      "Annualised Volatility: 0.03\n",
      "\n",
      "\n",
      "            IWDA  EMIM  IWVL  IUSN  TRET   EUNA   IEAG\n",
      "allocation  1.65   0.0  2.11   0.0   0.0  45.92  50.32\n"
     ]
    }
   ],
   "source": [
    "# Test the display of the efficient frontier\n",
    "\n",
    "portfolio = [IWDA, EMIM, IWVL, IUSN, TRET, EUNA, IEAG]\n",
    "names = ['IWDA', 'EMIM', 'IWVL', 'IUSN', 'TRET', 'EUNA', 'IEAG']\n",
    "description = ['Developed Markets', 'Emerging Markets', 'World Small Cap', 'World Value', 'REIT', 'EU bond ETF', 'Global bond ETF']\n",
    "\n",
    "portfolio = apply_perc_change(portfolio)\n",
    "\n",
    "num_portfolios = 2\n",
    "risk_free_rate = 0.17 / 100\n",
    "\n",
    "display_calculated_ef_with_random(portfolio, names, num_portfolios, risk_free_rate, max_return=0.055, num_samples=50)"
   ]
  },
  {
   "cell_type": "markdown",
   "metadata": {},
   "source": [
    "## Plot current allocation versus efficient frontier"
   ]
  },
  {
   "cell_type": "code",
   "execution_count": null,
   "metadata": {},
   "outputs": [],
   "source": [
    "def display_ef_with_selected(portfolio, names, num_portfolios, risk_free_rate, max_return, num_samples):\n",
    "    results, _ = random_portfolios(num_portfolios, portfolio, names, risk_free_rate, ['NA'])\n",
    "    \n",
    "    max_sharpe = max_sharpe_ratio(portfolio, names, risk_free_rate)\n",
    "    \n",
    "    #max_sharpe = max_sharpe_ratio(mean_returns, cov_matrix, risk_free_rate)\n",
    "    \n",
    "    portfolio_dictionary = construct_portfolio_dictionary(portfolio, names, weights, [\"NA\"])\n",
    "    p_ret, p_std = portfolio_annualised_performance(portfolio_dictionary)\n",
    "    \n",
    "    max_sharpe_allocation = pd.DataFrame(max_sharpe.x,index=names,columns=['allocation'])\n",
    "    max_sharpe_allocation = max_sharpe_allocation.apply(lambda x: round(x*100,2))\n",
    "    max_sharpe_allocation = max_sharpe_allocation.T\n",
    "\n",
    "    min_vol = min_variance(portfolio, names)\n",
    "    portfolio_dictionary = construct_portfolio_dictionary(portfolio, names, min_vol['x'], [\"NA\"])\n",
    "    p_ret_min, p_std_min = portfolio_annualised_performance(portfolio_dictionary)\n",
    "\n",
    "    \n",
    "    min_vol_allocation = pd.DataFrame(min_vol.x,index=names,columns=['allocation'])\n",
    "    #min_vol_allocation.allocation = [round(i*100,2)for i in min_vol_allocation.allocation]\n",
    "    min_vol_allocation = min_vol_allocation.apply(lambda x: round(x*100,2))\n",
    "    min_vol_allocation = min_vol_allocation.T\n",
    "    \n",
    "   # mean_daily_returns.append(df['perc_change'].mean())\n",
    "    #mean_daily_returns = \n",
    "    \n",
    "    # Todo: create function for this functionality\n",
    "    # Find the standard deviation and mean of perc_change of each ETF\n",
    "    mean_returns = []\n",
    "    std_returns = []\n",
    "\n",
    "    for etf in portfolio:\n",
    "        mean_daily_return = etf['perc_change'].mean()    \n",
    "        mean_returns.append(mean_daily_return)\n",
    "        \n",
    "        ret = etf['perc_change'].std()    \n",
    "        std_returns.append(ret)\n",
    "                \n",
    "    \n",
    "    # Annualized returns and volatility\n",
    "    an_vol = np.array(std_returns) * np.sqrt(252)\n",
    "    an_rt = np.array(mean_returns) * 252 \n",
    "    \n",
    "    #an_vol = np.std(returns) * np.sqrt(252)\n",
    "    #an_rt = mean_returns * 252\n",
    "    \n",
    "    print(\"-\"*80)\n",
    "    print(\"Maximum Sharpe Ratio Portfolio Allocation\\n\")\n",
    "    print(\"Annualised Return:\", round(p_ret,2))\n",
    "    print(\"Annualised Volatility:\", round(p_std,2))\n",
    "    print(\"\\n\")\n",
    "    print(max_sharpe_allocation)\n",
    "    print(\"-\"*80)\n",
    "    print(\"Minimum Volatility Portfolio Allocation\\n\")\n",
    "    print(\"Annualised Return:\", round(p_ret_min,2))\n",
    "    print(\"Annualised Volatility:\", round(p_std_min,2))\n",
    "    print(\"\\n\")\n",
    "    print(min_vol_allocation)\n",
    "    print(\"-\"*80)\n",
    "    print(\"Individual Stock Returns and Volatility\\n\")\n",
    "    for i, txt in enumerate(names):\n",
    "        print(txt,\":\",\"annualised return\",round(an_rt[i],2),\", annualised volatility:\",round(an_vol[i],2))\n",
    "    print(\"-\"*80)\n",
    "    \n",
    "    fig, ax = plt.subplots(figsize=(15, 10))\n",
    "    ax.scatter(an_vol,an_rt,marker='o',s=200)\n",
    "\n",
    "    for i, txt in enumerate(names):\n",
    "        ax.annotate(txt, (an_vol[i],an_rt[i]), xytext=(10,0), textcoords='offset points')\n",
    "    ax.scatter(p_std,p_ret, marker='*',color='r',s=500, label='Maximum Sharpe ratio')\n",
    "    ax.scatter(p_std_min, p_ret_min, marker='*',color='g',s=500, label='Minimum volatility')\n",
    "\n",
    "    target = np.linspace(rp_min, max_return, num_samples)\n",
    "    \n",
    "    efficient_portfolios =  efficient_frontier(portfolio, names, target)\n",
    "    ax.plot([p['fun'] for p in efficient_portfolios], target, linestyle='-.', color='black', label='efficient frontier')\n",
    "    ax.set_title('Portfolio Optimization with Individual Stocks', size = 25)\n",
    "    ax.set_xlabel('annualised volatility', size = 20)\n",
    "    ax.set_ylabel('annualised returns', size = 20)\n",
    "    ax.legend(labelspacing=0.8)\n",
    "    \n",
    "    plt.show()\n",
    "    "
   ]
  },
  {
   "cell_type": "code",
   "execution_count": null,
   "metadata": {},
   "outputs": [],
   "source": [
    "# Test the display of the efficient frontier\n",
    "\n",
    "portfolio = [IWDA, EMIM, IWVL, IUSN, TRET, EUNA, IEAG]\n",
    "names = ['IWDA', 'EMIM', 'IWVL', 'IUSN', 'TRET', 'EUNA', 'IEAG']\n",
    "description = ['Developed Markets', 'Emerging Markets', 'World Small Cap', 'World Value', 'REIT', 'EU bond ETF', 'Global bond ETF']\n",
    "\n",
    "portfolio = apply_perc_change(portfolio)\n",
    "\n",
    "num_portfolios = 100\n",
    "risk_free_rate = 0.17 / 100\n",
    "\n",
    "display_ef_with_selected(portfolio, names, num_portfolios, risk_free_rate, max_return= 0.09, num_samples = 40)"
   ]
  },
  {
   "cell_type": "code",
   "execution_count": null,
   "metadata": {},
   "outputs": [],
   "source": [
    "# Test the display of the efficient frontier\n",
    "\n",
    "portfolio = [IWDA, EMIM, IWVL, IUSN, TRET, EUNA, IEAG]\n",
    "names = ['IWDA', 'EMIM', 'IWVL', 'IUSN', 'TRET', 'EUNA', 'IEAG']\n",
    "description = ['Developed Markets', 'Emerging Markets', 'World Small Cap', 'World Value', 'REIT', 'EU bond ETF', 'Global bond ETF']\n",
    "\n",
    "portfolio = apply_perc_change(portfolio)\n",
    "\n",
    "num_portfolios = 100\n",
    "risk_free_rate = 0.17 / 100\n",
    "\n",
    "display_ef_with_selected(portfolio, names, num_portfolios, risk_free_rate, max_return= 0.09, num_samples = 40)"
   ]
  },
  {
   "cell_type": "code",
   "execution_count": null,
   "metadata": {},
   "outputs": [],
   "source": [
    "# Test the display of the efficient frontier\n",
    "\n",
    "portfolio = [IWDA, EMIM, IWVL, IUSN, TRET, EUNA, IEAG]\n",
    "names = ['IWDA', 'EMIM', 'IWVL', 'IUSN', 'TRET', 'EUNA', 'IEAG']\n",
    "description = ['Developed Markets', 'Emerging Markets', 'World Small Cap', 'World Value', 'REIT', 'EU bond ETF', 'Global bond ETF']\n",
    "\n",
    "portfolio = apply_perc_change(portfolio)\n",
    "\n",
    "num_portfolios = 50\n",
    "risk_free_rate = 0.17 / 100\n",
    "\n",
    "display_ef_with_selected(portfolio, names, num_portfolios, risk_free_rate, max_return= 0.35, num_samples = 40)"
   ]
  },
  {
   "cell_type": "code",
   "execution_count": null,
   "metadata": {},
   "outputs": [],
   "source": [
    "# Test the display of the efficient frontier\n",
    "\n",
    "portfolio = [IWDA, EMIM, IWVL, IUSN, TRET, EUNA, IEAG]\n",
    "names = ['IWDA', 'EMIM', 'IWVL', 'IUSN', 'TRET', 'EUNA', 'IEAG']\n",
    "description = ['Developed Markets', 'Emerging Markets', 'World Small Cap', 'World Value', 'REIT', 'EU bond ETF', 'Global bond ETF']\n",
    "\n",
    "portfolio = apply_perc_change(portfolio)\n",
    "\n",
    "num_portfolios = 50\n",
    "risk_free_rate = 0.17 / 100\n",
    "\n",
    "display_ef_with_selected(portfolio, names, num_portfolios, risk_free_rate, max_return= 0.25, num_samples = 40)"
   ]
  },
  {
   "cell_type": "markdown",
   "metadata": {},
   "source": [
    "## Returns since inception"
   ]
  },
  {
   "cell_type": "code",
   "execution_count": null,
   "metadata": {
    "scrolled": true
   },
   "outputs": [],
   "source": [
    "for idx in range(len(portfolio_dict['names'])):\n",
    "    print_return_since_inception(portfolio_dict['frames'][idx], portfolio_dict['names'][idx])"
   ]
  },
  {
   "cell_type": "markdown",
   "metadata": {},
   "source": [
    "## Daily, Monthly and Yearly returns"
   ]
  },
  {
   "cell_type": "code",
   "execution_count": null,
   "metadata": {},
   "outputs": [],
   "source": [
    "intersection_list = set(list_df[0]['Date']).intersection(set(list_df[1]['Date']))\n",
    "for df in list_df[2:]:\n",
    "    intersection_list.intersection(set(df['Date']))\n",
    "    \n",
    "common_dates = pd.Series(list(intersection_list))  "
   ]
  },
  {
   "cell_type": "code",
   "execution_count": null,
   "metadata": {},
   "outputs": [],
   "source": [
    "EMIM['Date'] = pd.to_datetime(EMIM['Date'])\n",
    "EMIM.set_index('Date', inplace = True)\n",
    "\n",
    "daily_return = EMIM['Adj Close'].pct_change()\n",
    "monthly_returns = EMIM['Adj Close'].resample('M').ffill().pct_change()\n"
   ]
  },
  {
   "cell_type": "code",
   "execution_count": null,
   "metadata": {},
   "outputs": [],
   "source": [
    "fig = plt.figure()\n",
    "#ax1 = fig.add_axes([0.1,0.1,0.8,0.8])\n",
    "plt.plot(daily_return)\n",
    "plt.xlabel(\"Date\")\n",
    "plt.ylabel(\"Percent\")\n",
    "plt.title(\"EMIM daily returns data\")\n",
    "plt.show()"
   ]
  },
  {
   "cell_type": "code",
   "execution_count": null,
   "metadata": {},
   "outputs": [],
   "source": [
    "fig = plt.figure()\n",
    "#ax1 = fig.add_axes([0.1,0.1,0.8,0.8])\n",
    "plt.plot(monthly_returns)\n",
    "plt.xlabel(\"Date\")\n",
    "plt.ylabel(\"Percent\")\n",
    "plt.title(\"EMIM monthly returns data\")\n",
    "plt.show()"
   ]
  },
  {
   "cell_type": "code",
   "execution_count": null,
   "metadata": {},
   "outputs": [],
   "source": [
    "print(f'Mean monthly returns for \"EMIM\": {monthly_returns.mean()*100}%')"
   ]
  },
  {
   "cell_type": "code",
   "execution_count": null,
   "metadata": {},
   "outputs": [],
   "source": [
    "fig = plt.figure()\n",
    "#ax1 = fig.add_axes([0.1,0.1,0.8,0.8])\n",
    "daily_return.plot.hist(bins = 60)\n",
    "plt.xlabel(\"Daily returns %\")\n",
    "plt.ylabel(\"Percent\")\n",
    "plt.title(\"EMIM daily returns data\")\n",
    "\n",
    "plt.show()"
   ]
  },
  {
   "cell_type": "code",
   "execution_count": null,
   "metadata": {},
   "outputs": [],
   "source": [
    "#Cumulative returns\n",
    "\n",
    "cum_returns = (daily_return + 1).cumprod()\n",
    "\n",
    "fig = plt.figure()\n",
    "cum_returns.plot()\n",
    "plt.xlabel(\"Date\")\n",
    "plt.ylabel(\"Growth of $1 investment\")\n",
    "plt.title(\"EMIM daily cumulative returns data\")\n",
    "plt.show()"
   ]
  },
  {
   "cell_type": "code",
   "execution_count": null,
   "metadata": {},
   "outputs": [],
   "source": [
    "cum_returns = (monthly_returns + 1).cumprod()\n",
    "\n",
    "fig = plt.figure()\n",
    "plt.plot(cum_returns)\n",
    "plt.xlabel(\"Date\")\n",
    "plt.ylabel(\"Growth of $1 investment\")\n",
    "plt.title(\"EMIM Monthly cumulative returns data\")\n",
    "plt.show()"
   ]
  },
  {
   "cell_type": "markdown",
   "metadata": {},
   "source": [
    "# Compute daily returns"
   ]
  },
  {
   "cell_type": "code",
   "execution_count": null,
   "metadata": {},
   "outputs": [],
   "source": [
    "EMIM['Date'] = pd.to_datetime(EMIM['Date'])\n",
    "EMIM.set_index('Date', inplace = True)\n",
    "\n",
    "daily_return = EMIM['Adj Close'].pct_change()\n"
   ]
  },
  {
   "cell_type": "markdown",
   "metadata": {},
   "source": [
    "# Things that did not work"
   ]
  },
  {
   "cell_type": "code",
   "execution_count": null,
   "metadata": {},
   "outputs": [],
   "source": [
    "# Find the common dates.\n",
    "common_dates = pd.Series(list(set(EMIM['Date']).intersection(set(IWDA['Date']))))\n",
    "\n",
    "\n",
    "same_IWDA = IWDA[IWDA['Date'].isin(common_dates)]\n",
    "same_EMIM = EMIM[EMIM['Date'].isin(common_dates)]\n"
   ]
  },
  {
   "cell_type": "code",
   "execution_count": null,
   "metadata": {},
   "outputs": [],
   "source": [
    "# Compute covariance and correlation matrix\n",
    "array_IWDA = same_IWDA['Adj Close']\n",
    "array_EMIM = same_EMIM['Adj Close']\n",
    "matrix = np.array([array_IWDA, array_EMIM])\n",
    "covMatrix = np.cov(matrix, bias=True)\n",
    "corrMatrix = np.corrcoef(matrix)\n"
   ]
  },
  {
   "cell_type": "code",
   "execution_count": null,
   "metadata": {
    "scrolled": true
   },
   "outputs": [],
   "source": [
    "print(f\"The covariance matrix is: \\n {covMatrix}\")\n",
    "print('\\n')\n",
    "print(f\"The correlation matrix is: \\n {corrMatrix}\")"
   ]
  },
  {
   "cell_type": "code",
   "execution_count": null,
   "metadata": {},
   "outputs": [],
   "source": [
    "# Compute the mean stock price\n",
    "\n",
    "mean_IWDA = same_IWDA['Adj Close'].mean()\n",
    "mean_EMIM = same_EMIM['Adj Close'].mean()"
   ]
  },
  {
   "cell_type": "code",
   "execution_count": null,
   "metadata": {},
   "outputs": [],
   "source": [
    "#Put all of the stocks in the same matri\n",
    "\n",
    "# Set date as index\n",
    "EMIM['Date'] = pd.to_datetime(EMIM['Date'])\n",
    "EMIM.set_index('Date', inplace = True)\n",
    "\n"
   ]
  },
  {
   "cell_type": "code",
   "execution_count": null,
   "metadata": {},
   "outputs": [],
   "source": [
    "def set_date_to_index(dataframe):\n",
    "    dataframe['Date'] = pd.to_datetime(dataframe['Date'])\n",
    "    dataframe.set_index('Date', inplace = True)"
   ]
  },
  {
   "cell_type": "code",
   "execution_count": null,
   "metadata": {},
   "outputs": [],
   "source": [
    "# Set dates to index\n",
    "set_date_to_index(EMIM)\n",
    "set_date_to_index(IWDA)\n",
    "set_date_to_index(IUSN)\n",
    "set_date_to_index(IWVL)\n",
    "set_date_to_index(EUNA)\n",
    "set_date_to_index(IEAG)\n",
    "set_date_to_index(TRET)\n"
   ]
  },
  {
   "cell_type": "code",
   "execution_count": null,
   "metadata": {},
   "outputs": [],
   "source": []
  }
 ],
 "metadata": {
  "kernelspec": {
   "display_name": "Python 3",
   "language": "python",
   "name": "python3"
  },
  "language_info": {
   "codemirror_mode": {
    "name": "ipython",
    "version": 3
   },
   "file_extension": ".py",
   "mimetype": "text/x-python",
   "name": "python",
   "nbconvert_exporter": "python",
   "pygments_lexer": "ipython3",
   "version": "3.6.3"
  }
 },
 "nbformat": 4,
 "nbformat_minor": 2
}
